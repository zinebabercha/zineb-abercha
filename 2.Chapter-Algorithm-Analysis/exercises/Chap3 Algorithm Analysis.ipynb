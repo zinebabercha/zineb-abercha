{
 "cells": [
  {
   "cell_type": "markdown",
   "metadata": {},
   "source": [
    "### Chap3 Algorithm Analysis"
   ]
  },
  {
   "cell_type": "code",
   "execution_count": 1,
   "metadata": {
    "ExecuteTime": {
     "end_time": "2019-06-30T02:50:30.204684Z",
     "start_time": "2019-06-30T02:50:29.792064Z"
    }
   },
   "outputs": [],
   "source": [
    "import math\n",
    "import numpy as np\n",
    "import matplotlib.pyplot as plt\n",
    "from typing import List, TypeVar\n",
    "Num = TypeVar('Num', int, float)"
   ]
  },
  {
   "cell_type": "markdown",
   "metadata": {},
   "source": [
    "#### Reinforcement"
   ]
  },
  {
   "cell_type": "markdown",
   "metadata": {},
   "source": [
    "##### R-3.1\n",
    "Graph the functions $8n$, $4n\\log n$, $2n^2$ , $n^3$ , and $2^n$ using a logarithmic scale\n",
    "for the x- and y-axes; that is, if the function value $f(n)$ is y, plot this as a\n",
    "point with x-coordinate at log n and y-coordinate at log y."
   ]
  },
  {
   "cell_type": "code",
   "execution_count": 2,
   "metadata": {
    "ExecuteTime": {
     "end_time": "2019-06-30T02:50:30.225498Z",
     "start_time": "2019-06-30T02:50:30.209819Z"
    }
   },
   "outputs": [],
   "source": [
    "def plot_loglog():\n",
    "    xs = range(1, 100)\n",
    "    plt.loglog(xs, [8*x for x in xs], basex=2, basey=2)\n",
    "    plt.loglog(xs, [4*x*np.log2(x) for x in xs], basex=2, basey=2)\n",
    "    plt.loglog(xs, [2*(x**2) for x in xs], basex=2, basey=2)\n",
    "    plt.loglog(xs, [x**3 for x in xs], basex=2, basey=2)\n",
    "    plt.loglog(xs, [2**x for x in xs], basex=2, basey=2)\n",
    "    plt.legend(['$8n$', '$4n\\\\logn$', '$2n^2$', '$n^3$', '2^n'])\n",
    "    plt.show()"
   ]
  },
  {
   "cell_type": "markdown",
   "metadata": {
    "ExecuteTime": {
     "end_time": "2019-06-29T02:56:56.358365Z",
     "start_time": "2019-06-29T02:56:55.313721Z"
    }
   },
   "source": [
    "fig=plt.figure(figsize=(10, 8), dpi= 80, facecolor='w', edgecolor='k')\n",
    "plot_loglog()"
   ]
  },
  {
   "cell_type": "markdown",
   "metadata": {},
   "source": [
    "##### R-3.2\n",
    "The number of operations executed by algorithms A and B is $8n\\log n$ and\n",
    "$2n^2$ , respectively. Determine $n_{0}$ such that A is better than B for $n ≥ n_0$ ."
   ]
  },
  {
   "cell_type": "markdown",
   "metadata": {},
   "source": [
    "solution:\n",
    "$$8n\\log n = 2n^2$$\n",
    "$$4\\log n = n$$\n",
    "$$n_0 = 16$$"
   ]
  },
  {
   "cell_type": "markdown",
   "metadata": {},
   "source": [
    "##### R-3.3\n",
    "The number of operations executed by algorithms A and B is $40n^2$ and\n",
    "$2n^3$ , respectively. Determine $n_0$ such that A is better than B for $n ≥ n_0$ ."
   ]
  },
  {
   "cell_type": "markdown",
   "metadata": {},
   "source": [
    "solution:\n",
    "$$2n^3 = 40n^2$$\n",
    "$$n_0 = 20$$"
   ]
  },
  {
   "cell_type": "markdown",
   "metadata": {},
   "source": [
    "##### R-3.4 \n",
    "Give an example of a function that is plotted the same on a log-log scale\n",
    "as it is on a standard scale."
   ]
  },
  {
   "cell_type": "markdown",
   "metadata": {},
   "source": [
    "solution: Constant Function."
   ]
  },
  {
   "cell_type": "markdown",
   "metadata": {},
   "source": [
    "##### R-3.5 \n",
    "Explain why the plot of the function $n^c$ is a straight line with slope $c$ on a\n",
    "log-log scale."
   ]
  },
  {
   "cell_type": "markdown",
   "metadata": {},
   "source": [
    "solution:\n",
    "$$y = n^c$$\n",
    "$$\\log y = c \\cdot \\log n$$\n",
    "$$y^\\prime = c \\cdot x^\\prime$$\n",
    "$$where, y^\\prime = \\log y, x^\\prime = \\log x$$"
   ]
  },
  {
   "cell_type": "markdown",
   "metadata": {},
   "source": [
    "##### R-3.6\n",
    "What is the sum of all the even numbers from $0$ to $2n$, for any positive\n",
    "integer $n$?"
   ]
  },
  {
   "cell_type": "markdown",
   "metadata": {},
   "source": [
    "solution:\n",
    "$$0 + 2 + 4 + \\cdots + 2n = 2 \\cdot (1 + 2 + \\cdots + n)  = n(n+1)$$"
   ]
  },
  {
   "cell_type": "markdown",
   "metadata": {},
   "source": [
    "##### R-3.8\n",
    "Order the following functions by asymptotic growth rate."
   ]
  },
  {
   "cell_type": "markdown",
   "metadata": {},
   "source": [
    "$$2^{10} < 3n+100\\log n < 4n < n\\log n < 4n\\log n+2n < n^2 + 10n < n^3 < 2^{\\log n} < 2 ^ n$$"
   ]
  },
  {
   "cell_type": "markdown",
   "metadata": {},
   "source": [
    "##### # R-3.23 -> R-3.26\n",
    "计算下面示例代码的时间复杂度.注意下面的`count`或`num_calc`是为后面可视化而自行添加的. "
   ]
  },
  {
   "cell_type": "code",
   "execution_count": 3,
   "metadata": {
    "ExecuteTime": {
     "end_time": "2019-06-30T02:50:30.297910Z",
     "start_time": "2019-06-30T02:50:30.230475Z"
    }
   },
   "outputs": [],
   "source": [
    "def example1(S):\n",
    "    \"\"\"Return the sum of the elements in sequence S.\"\"\"\n",
    "    n = len(S)\n",
    "    total = 0\n",
    "    count = 0\n",
    "    for j in range(n):\n",
    "        total += S[j]\n",
    "        count += 1\n",
    "    return total, count\n",
    "\n",
    "def example2(S):\n",
    "    \"\"\"Return the sum of the elemnets in sequnce S.\"\"\"\n",
    "    n = len(S)\n",
    "    total = 0\n",
    "    count = 0\n",
    "    for j in range(0, n, 2):\n",
    "        total += S[j]\n",
    "        count += 1\n",
    "    return total, count\n",
    "\n",
    "def example3(S):\n",
    "    \"\"\"Return the sum of the elemnets in sequnce S.\"\"\"\n",
    "    n = len(S)\n",
    "    total = 0\n",
    "    count = 0\n",
    "    for j in range(n):\n",
    "        for k in range(1+j):\n",
    "            total += S[j]\n",
    "            count += 1\n",
    "    return total, count\n",
    "\n",
    "def example4(S):\n",
    "    \"\"\"Return the sum of the elemnets in sequnce S.\"\"\"\n",
    "    n = len(S)\n",
    "    prefix = 0\n",
    "    total = 0\n",
    "    count = 0\n",
    "    for j in range(n):\n",
    "        prefix += S[j]\n",
    "        total += prefix\n",
    "        count += 1\n",
    "    return total, count\n",
    "\n",
    "def example5(A, B):\n",
    "    n = len(A)\n",
    "    count = 0\n",
    "    num_calc = 0\n",
    "    for i in range(n):\n",
    "        total = 0\n",
    "        for j in range(n):\n",
    "            for k in range(1+j):\n",
    "                total += A[k]\n",
    "                num_calc += 1\n",
    "        if B[i] == total:\n",
    "            count+=1\n",
    "    return count, num_calc"
   ]
  },
  {
   "cell_type": "markdown",
   "metadata": {
    "ExecuteTime": {
     "end_time": "2019-06-29T03:18:27.227570Z",
     "start_time": "2019-06-29T03:18:27.220578Z"
    }
   },
   "source": [
    "首先我们分析前面四段代码的复杂度,为了进行可视化,我们定义下面的函数:"
   ]
  },
  {
   "cell_type": "code",
   "execution_count": 4,
   "metadata": {
    "ExecuteTime": {
     "end_time": "2019-06-30T02:50:30.385387Z",
     "start_time": "2019-06-30T02:50:30.302871Z"
    }
   },
   "outputs": [],
   "source": [
    "def get_time_complexity_1(n, func):\n",
    "    op_nums = []\n",
    "    for i in range(1, n):\n",
    "        A = np.random.randint(0, 100, size=(i, ))\n",
    "        _, num_calc = func(A)\n",
    "        op_nums.append(num_calc)\n",
    "    fig=plt.figure(figsize=(8, 6), dpi= 80, facecolor='w', edgecolor='k')\n",
    "    plt.plot(op_nums)\n",
    "    plt.title(func.__name__)\n",
    "    plt.show()"
   ]
  },
  {
   "cell_type": "markdown",
   "metadata": {},
   "source": [
    "###### `example1`的时间复杂度为$O(n)"
   ]
  },
  {
   "cell_type": "code",
   "execution_count": 5,
   "metadata": {
    "ExecuteTime": {
     "end_time": "2019-06-30T02:50:31.047619Z",
     "start_time": "2019-06-30T02:50:30.388158Z"
    }
   },
   "outputs": [
    {
     "data": {
      "image/png": "[encoded data removed]",
      "text/plain": [
       "<matplotlib.figure.Figure at 0x7f64c3f7c860>"
      ]
     },
     "metadata": {},
     "output_type": "display_data"
    }
   ],
   "source": [
    "get_time_complexity_1(100, example1)"
   ]
  },
  {
   "cell_type": "markdown",
   "metadata": {},
   "source": [
    "###### `example2`的时间复杂度为$O(n)"
   ]
  },
  {
   "cell_type": "code",
   "execution_count": 6,
   "metadata": {
    "ExecuteTime": {
     "end_time": "2019-06-30T02:50:31.272073Z",
     "start_time": "2019-06-30T02:50:31.050151Z"
    }
   },
   "outputs": [
    {
     "data": {
      "image/png": "[encoded data removed]",
      "text/plain": [
       "<matplotlib.figure.Figure at 0x7f64b0417a20>"
      ]
     },
     "metadata": {},
     "output_type": "display_data"
    }
   ],
   "source": [
    "get_time_complexity_1(100, example2)"
   ]
  },
  {
   "cell_type": "markdown",
   "metadata": {},
   "source": [
    "###### `example3`的时间复杂度为$O(n)$"
   ]
  },
  {
   "cell_type": "code",
   "execution_count": 7,
   "metadata": {
    "ExecuteTime": {
     "end_time": "2019-06-30T02:50:31.545757Z",
     "start_time": "2019-06-30T02:50:31.277630Z"
    }
   },
   "outputs": [
    {
     "data": {
      "image/png": "[encoded data removed]",
      "text/plain": [
       "<matplotlib.figure.Figure at 0x7f64b0506550>"
      ]
     },
     "metadata": {},
     "output_type": "display_data"
    }
   ],
   "source": [
    "get_time_complexity_1(100, example3)"
   ]
  },
  {
   "cell_type": "markdown",
   "metadata": {
    "ExecuteTime": {
     "end_time": "2019-06-29T03:22:18.248412Z",
     "start_time": "2019-06-29T03:22:18.245298Z"
    }
   },
   "source": [
    "###### example4的时间复杂度为$O(n)$"
   ]
  },
  {
   "cell_type": "code",
   "execution_count": 8,
   "metadata": {
    "ExecuteTime": {
     "end_time": "2019-06-30T02:50:31.836915Z",
     "start_time": "2019-06-30T02:50:31.549684Z"
    }
   },
   "outputs": [
    {
     "data": {
      "image/png": "[encoded data removed]",
      "text/plain": [
       "<matplotlib.figure.Figure at 0x7f64b02a0f98>"
      ]
     },
     "metadata": {},
     "output_type": "display_data"
    }
   ],
   "source": [
    "get_time_complexity_1(100, example4)"
   ]
  },
  {
   "cell_type": "markdown",
   "metadata": {},
   "source": [
    "###### `example5`的时间复杂度为$O(n^3)$"
   ]
  },
  {
   "cell_type": "markdown",
   "metadata": {},
   "source": [
    "对于`example5`我们另外定义一个可视化函数:"
   ]
  },
  {
   "cell_type": "code",
   "execution_count": 9,
   "metadata": {
    "ExecuteTime": {
     "end_time": "2019-06-30T02:50:31.866816Z",
     "start_time": "2019-06-30T02:50:31.851035Z"
    }
   },
   "outputs": [],
   "source": [
    "def get_time_complexity_2(n=100):\n",
    "    op_nums = []\n",
    "    for i in range(1, n):\n",
    "        A = np.random.randint(0, 100, size=(i, ))\n",
    "        B = np.random.randint(0, 100, size=(i, ))\n",
    "        _, num_calc = example5(A, B)\n",
    "        op_nums.append(num_calc)\n",
    "    fig=plt.figure(figsize=(8, 6), dpi= 80, facecolor='w', edgecolor='k')\n",
    "    plt.plot(op_nums)\n",
    "    plt.plot(range(n), [i**2 for i in range(n)])\n",
    "    plt.plot(range(n), [i**3 for i in range(n)])\n",
    "    plt.legend(['example5', '$n^2$', '$n^3$'])\n",
    "    plt.title('example5')\n",
    "    plt.show()"
   ]
  },
  {
   "cell_type": "code",
   "execution_count": 10,
   "metadata": {
    "ExecuteTime": {
     "end_time": "2019-06-30T02:50:35.591601Z",
     "start_time": "2019-06-30T02:50:31.870134Z"
    }
   },
   "outputs": [
    {
     "data": {
      "image/png": "[encoded data removed]",
      "text/plain": [
       "<matplotlib.figure.Figure at 0x7f64b0229a20>"
      ]
     },
     "metadata": {},
     "output_type": "display_data"
    }
   ],
   "source": [
    "get_time_complexity_2()"
   ]
  },
  {
   "cell_type": "markdown",
   "metadata": {},
   "source": [
    "##### R-3.32 \n",
    "Given an n-element sequence S, Algorithm D calls Algorithm E on each\n",
    "element S[i]. Algorithm E runs in O(i) time when it is called on element\n",
    "S[i]. What is the worst-case running time of Algorithm D?"
   ]
  },
  {
   "cell_type": "markdown",
   "metadata": {},
   "source": [
    "$$0+1+2+ \\cdots + n-1 = \\frac{n(n-1)}{2} => O(n^2)$$"
   ]
  },
  {
   "cell_type": "markdown",
   "metadata": {},
   "source": [
    "##### R-3.33\n",
    "Al and Bob are arguing about their algorithms. Al claims his $O(n \\log n)$-\n",
    "time method is always faster than Bob’s $O(n^2)$-time method. To settle the\n",
    "issue, they perform a set of experiments. To Al’s dismay, they find that if\n",
    "$n < 100$, the $O(n^2 )$-time algorithm runs faster, and only when $n ≥ 100$ is\n",
    "the $O(n log n)$-time one better. Explain how this is possible."
   ]
  },
  {
   "cell_type": "markdown",
   "metadata": {},
   "source": [
    "solution: Consider about the constant factor!"
   ]
  },
  {
   "cell_type": "markdown",
   "metadata": {},
   "source": [
    "##### R-3.34\n",
    "There is a well-known city (which will go nameless here) whose inhabi-\n",
    "tants have the reputation of enjoying a meal only if that meal is the best\n",
    "they have ever experienced in their life. Otherwise, they hate it. Assum-\n",
    "ing meal quality is distributed uniformly across a person’s life, describe\n",
    "the expected number of times inhabitants of this city are happy with their\n",
    "meals?\n",
    "\n",
    ">hint: Recall the definition of the Harmonic number, $H_n$"
   ]
  },
  {
   "cell_type": "markdown",
   "metadata": {},
   "source": [
    "solution:\n",
    "$$H_n = 1 + \\frac{1}{2} + \\cdots + \\frac{1}{n} => O(\\log n)$$"
   ]
  },
  {
   "cell_type": "markdown",
   "metadata": {},
   "source": [
    "#### Creativity"
   ]
  },
  {
   "cell_type": "markdown",
   "metadata": {},
   "source": [
    "##### C-3.35 \n",
    "Assuming it is possible to sort n numbers in $O(n \\log n)$ time, show that it\n",
    "is possible to solve the three-way set disjointness problem in $O(n \\log n)$\n",
    "time"
   ]
  },
  {
   "cell_type": "code",
   "execution_count": 11,
   "metadata": {
    "ExecuteTime": {
     "end_time": "2019-06-30T02:50:35.605494Z",
     "start_time": "2019-06-30T02:50:35.594420Z"
    }
   },
   "outputs": [],
   "source": [
    "def disjoint(a: List[Num], b: List[Num], c: List[Num]) -> bool:\n",
    "    all_nums = sorted(a + b + c)\n",
    "    for i in range(2, len(all_nums)):\n",
    "        if all_nums[i] == all_nums[i-1] == all_nums[i-2]:\n",
    "            return False\n",
    "    return True"
   ]
  },
  {
   "cell_type": "code",
   "execution_count": 12,
   "metadata": {
    "ExecuteTime": {
     "end_time": "2019-06-30T02:50:35.705249Z",
     "start_time": "2019-06-30T02:50:35.610551Z"
    }
   },
   "outputs": [
    {
     "data": {
      "text/plain": [
       "True"
      ]
     },
     "execution_count": 12,
     "metadata": {},
     "output_type": "execute_result"
    }
   ],
   "source": [
    "disjoint([1, 2], [3, 4], [5, 6])"
   ]
  },
  {
   "cell_type": "code",
   "execution_count": 13,
   "metadata": {
    "ExecuteTime": {
     "end_time": "2019-06-30T02:50:35.800557Z",
     "start_time": "2019-06-30T02:50:35.710581Z"
    }
   },
   "outputs": [
    {
     "data": {
      "text/plain": [
       "False"
      ]
     },
     "execution_count": 13,
     "metadata": {},
     "output_type": "execute_result"
    }
   ],
   "source": [
    "disjoint([1, 2], [2, 4], [2, 6])"
   ]
  },
  {
   "cell_type": "markdown",
   "metadata": {},
   "source": [
    "基本思路就是： 合并，排序，搜索。"
   ]
  },
  {
   "cell_type": "markdown",
   "metadata": {},
   "source": [
    "##### C-3.36\n",
    "Describe an efficient algorithm for finding the ten largest elements in a\n",
    "sequence of size n. What is the running time of your algorithm?"
   ]
  },
  {
   "cell_type": "markdown",
   "metadata": {},
   "source": [
    "###### 排序后切分$O(n\\log n)$"
   ]
  },
  {
   "cell_type": "code",
   "execution_count": 14,
   "metadata": {
    "ExecuteTime": {
     "end_time": "2019-06-30T02:50:35.876926Z",
     "start_time": "2019-06-30T02:50:35.804688Z"
    }
   },
   "outputs": [],
   "source": [
    "def max_ten_1(nums: List[Num]) -> List[Num]:\n",
    "    return sorted(nums)[-10:]"
   ]
  },
  {
   "cell_type": "code",
   "execution_count": 15,
   "metadata": {
    "ExecuteTime": {
     "end_time": "2019-06-30T02:50:36.001415Z",
     "start_time": "2019-06-30T02:50:35.880350Z"
    }
   },
   "outputs": [
    {
     "data": {
      "text/plain": [
       "[90, 91, 92, 93, 94, 95, 96, 97, 98, 99]"
      ]
     },
     "execution_count": 15,
     "metadata": {},
     "output_type": "execute_result"
    }
   ],
   "source": [
    "max_ten_1(range(100))"
   ]
  },
  {
   "cell_type": "markdown",
   "metadata": {},
   "source": [
    "###### 替换$O(n)$\n",
    "\n",
    "注意因为`10`是一个`constant`，所以对其进行排序等操作的复杂度都是$O(1)$"
   ]
  },
  {
   "cell_type": "code",
   "execution_count": 16,
   "metadata": {
    "ExecuteTime": {
     "end_time": "2019-06-30T02:50:36.089298Z",
     "start_time": "2019-06-30T02:50:36.005084Z"
    }
   },
   "outputs": [],
   "source": [
    "def max_ten_2(nums: List[Num]) -> List[Num]:\n",
    "    result = sorted(nums[:10])\n",
    "    for i in range(10, len(nums)):\n",
    "        if nums[i] > result[0]:\n",
    "            result[0] = nums[i]\n",
    "            result = sorted(result)\n",
    "    return result"
   ]
  },
  {
   "cell_type": "code",
   "execution_count": 17,
   "metadata": {
    "ExecuteTime": {
     "end_time": "2019-06-30T02:50:36.178676Z",
     "start_time": "2019-06-30T02:50:36.094197Z"
    }
   },
   "outputs": [
    {
     "data": {
      "text/plain": [
       "[90, 91, 92, 93, 94, 95, 96, 97, 98, 99]"
      ]
     },
     "execution_count": 17,
     "metadata": {},
     "output_type": "execute_result"
    }
   ],
   "source": [
    "max_ten_2(range(100))"
   ]
  },
  {
   "cell_type": "markdown",
   "metadata": {},
   "source": [
    "##### C-3.41\n",
    "Describe an algorithm for finding both the minimum and maximum of n\n",
    "numbers using fewer than 3n/2 comparisons. (Hint: First, construct a\n",
    "group of candidate minimums and a group of candidate maximums.)\n",
    "\n",
    "参考[stackoverflow](https://stackoverflow.com/questions/13544476/how-to-find-max-and-min-in-array-using-minimum-comparisons),注意对最后一个元素的考虑。"
   ]
  },
  {
   "cell_type": "code",
   "execution_count": 18,
   "metadata": {
    "ExecuteTime": {
     "end_time": "2019-06-30T02:50:36.263487Z",
     "start_time": "2019-06-30T02:50:36.180646Z"
    }
   },
   "outputs": [],
   "source": [
    "def min_max(nums: List[Num]) -> List[Num]:\n",
    "    min_num = math.inf\n",
    "    max_num = -math.inf\n",
    "    for i in range(1, len(nums), 2):\n",
    "        if nums[i] >= nums[i-1]:\n",
    "            min_num = min(min_num, nums[i-1])\n",
    "            max_num = max(max_num, nums[i])\n",
    "        else:\n",
    "            min_num = min(min_num, nums[i])\n",
    "            max_num = max(max_num, nums[i-1])\n",
    "    # when len(nums) is odd\n",
    "    # we have to handle the last element\n",
    "    min_num = min(min_num, nums[-1])\n",
    "    max_num = max(max_num, nums[-1])\n",
    "    return [min_num, max_num]"
   ]
  },
  {
   "cell_type": "code",
   "execution_count": 19,
   "metadata": {
    "ExecuteTime": {
     "end_time": "2019-06-30T02:50:36.393113Z",
     "start_time": "2019-06-30T02:50:36.265626Z"
    }
   },
   "outputs": [
    {
     "data": {
      "text/plain": [
       "[1, 3]"
      ]
     },
     "execution_count": 19,
     "metadata": {},
     "output_type": "execute_result"
    }
   ],
   "source": [
    "min_max([1, 2, 3, 2, 1])"
   ]
  },
  {
   "cell_type": "markdown",
   "metadata": {},
   "source": [
    "##### C-3.42\n",
    "Bob built a Web site and gave the URL only to his n friends, which he\n",
    "numbered from 1 to n. He told friend number i that he/she can visit the\n",
    "Web site at most i times. Now Bob has a counter, C, keeping track of the\n",
    "total number of visits to the site (but not the identities of who visits). What\n",
    "is the minimum value for C such that Bob can know that one of his friends\n",
    "has visited his/her maximum allowed number of times?"
   ]
  },
  {
   "cell_type": "markdown",
   "metadata": {},
   "source": [
    "考虑每个人都未达到最大访问量时，总体访问量的最大值。由于$i=1, 2, \\cdots, n$, 所以未达到最大访问量时，每个人最多访问的次数依次为$j = 0, 1, \\cdots, (n-1)$， 将`j`加总得$\\frac{n(n-1)}{2}$, 所以当总的访问量$C=1 + \\frac{n(n-1)}{2}$时，可以断定至少有一个人达到了最大访问量。"
   ]
  },
  {
   "cell_type": "markdown",
   "metadata": {},
   "source": [
    "##### C-3.45 \n",
    "A sequence S contains n − 1 unique integers in the range [0, n − 1], that\n",
    "is, there is one number from this range that is not in S. Design an $O(n)$-\n",
    "time algorithm for finding that number. You are only allowed to use $O(1)$\n",
    "additional space besides the sequence S itself."
   ]
  },
  {
   "cell_type": "code",
   "execution_count": 20,
   "metadata": {
    "ExecuteTime": {
     "end_time": "2019-06-30T02:50:36.474292Z",
     "start_time": "2019-06-30T02:50:36.396008Z"
    }
   },
   "outputs": [],
   "source": [
    "def find_miss(nums: List[Num]) -> Num:\n",
    "    # (n-1) -> m\n",
    "    m = len(nums)\n",
    "    total = 0\n",
    "    for i in range(m):\n",
    "        total += nums[i]\n",
    "    return m*(m + 1) // 2 - total"
   ]
  },
  {
   "cell_type": "code",
   "execution_count": 21,
   "metadata": {
    "ExecuteTime": {
     "end_time": "2019-06-30T02:50:36.563639Z",
     "start_time": "2019-06-30T02:50:36.477516Z"
    }
   },
   "outputs": [
    {
     "data": {
      "text/plain": [
       "3"
      ]
     },
     "execution_count": 21,
     "metadata": {},
     "output_type": "execute_result"
    }
   ],
   "source": [
    "find_miss([0, 1, 2, 4])"
   ]
  },
  {
   "cell_type": "markdown",
   "metadata": {},
   "source": [
    "##### C-3.53\n",
    "An evil king has n bottles of wine, and a spy has just poisoned one of\n",
    "them. Unfortunately, they do not know which one it is. The poison is very\n",
    "deadly; just one drop diluted even a billion to one will still kill. Even so,\n",
    "it takes a full month for the poison to take effect. Design a scheme for\n",
    "determining exactly which one of the wine bottles was poisoned in just\n",
    "one month’s time while expending $O(log n)$ taste testers."
   ]
  },
  {
   "cell_type": "code",
   "execution_count": 22,
   "metadata": {
    "ExecuteTime": {
     "end_time": "2019-06-30T02:50:36.651910Z",
     "start_time": "2019-06-30T02:50:36.566827Z"
    }
   },
   "outputs": [],
   "source": [
    "def get_plan(n):\n",
    "    person_num = len(str(bin(n))) - 2\n",
    "    for i in range(1, n+1):\n",
    "        print(str(bin(i))[2:].rjust(person_num, '0'))"
   ]
  },
  {
   "cell_type": "code",
   "execution_count": 23,
   "metadata": {
    "ExecuteTime": {
     "end_time": "2019-06-30T02:50:36.744656Z",
     "start_time": "2019-06-30T02:50:36.657986Z"
    }
   },
   "outputs": [
    {
     "name": "stdout",
     "output_type": "stream",
     "text": [
      "00001\n",
      "00010\n",
      "00011\n",
      "00100\n",
      "00101\n",
      "00110\n",
      "00111\n",
      "01000\n",
      "01001\n",
      "01010\n",
      "01011\n",
      "01100\n",
      "01101\n",
      "01110\n",
      "01111\n",
      "10000\n",
      "10001\n",
      "10010\n",
      "10011\n",
      "10100\n"
     ]
    }
   ],
   "source": [
    "get_plan(20)"
   ]
  },
  {
   "cell_type": "markdown",
   "metadata": {},
   "source": [
    "我们对所有n个瓶子，从1开始进行标号，同时将每个标号转化为二进制的数字串。如上例，此时n=20，对应的二进制数字如上。此时，我们只需要5个人即可完成验证。具体方式是，上述第一个人，在第一列的20个数字中，如果是1，则喝掉对应瓶子的酒；如果是0，则不喝。后面四个人以此类推。那么观察5个人的存活情况，若仅有第1，3个人死亡，那么对应的编号就是`10100`,也就是第20个瓶子里面被下了毒。"
   ]
  },
  {
   "cell_type": "markdown",
   "metadata": {},
   "source": [
    "##### C-3.54\n",
    "A sequence S contains n integers taken from the interval [0, 4n], with repe-\n",
    "titions allowed. Describe an efficient algorithm for determining an integer\n",
    "value k that occurs the most often in S. What is the running time of your\n",
    "algorithm?"
   ]
  },
  {
   "cell_type": "code",
   "execution_count": 24,
   "metadata": {
    "ExecuteTime": {
     "end_time": "2019-06-30T02:50:36.840882Z",
     "start_time": "2019-06-30T02:50:36.748587Z"
    }
   },
   "outputs": [],
   "source": [
    "def get_most_freq_num(nums: List[int]) -> int:\n",
    "    records = [0] * (4 * len(nums))\n",
    "    for num in nums:\n",
    "        records[num] += 1\n",
    "    max_time = records[0]\n",
    "    max_num = nums[0]\n",
    "    for num, time in enumerate(records):\n",
    "        if time > max_time:\n",
    "            max_time = time\n",
    "            max_num = num\n",
    "    return max_num"
   ]
  },
  {
   "cell_type": "code",
   "execution_count": 25,
   "metadata": {
    "ExecuteTime": {
     "end_time": "2019-06-30T02:50:36.930482Z",
     "start_time": "2019-06-30T02:50:36.845054Z"
    }
   },
   "outputs": [
    {
     "data": {
      "text/plain": [
       "4"
      ]
     },
     "execution_count": 25,
     "metadata": {},
     "output_type": "execute_result"
    }
   ],
   "source": [
    "get_most_freq_num([1, 2, 2, 3, 4, 4, 4, 5])"
   ]
  }
 ],
 "metadata": {
  "kernelspec": {
   "display_name": "Python 3",
   "language": "python",
   "name": "python3"
  },
  "language_info": {
   "codemirror_mode": {
    "name": "ipython",
    "version": 3
   },
   "file_extension": ".py",
   "mimetype": "text/x-python",
   "name": "python",
   "nbconvert_exporter": "python",
   "pygments_lexer": "ipython3",
   "version": "3.6.8"
  },
  "toc": {
   "nav_menu": {},
   "number_sections": false,
   "sideBar": true,
   "skip_h1_title": false,
   "title_cell": "Table of Contents",
   "title_sidebar": "Contents",
   "toc_cell": false,
   "toc_position": {
    "height": "calc(100% - 180px)",
    "left": "10px",
    "top": "150px",
    "width": "273.2px"
   },
   "toc_section_display": true,
   "toc_window_display": true
  }
 },
 "nbformat": 4,
 "nbformat_minor": 2
}
