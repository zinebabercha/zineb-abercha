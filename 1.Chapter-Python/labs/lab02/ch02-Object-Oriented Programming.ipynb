{
 "cells": [
  {
   "cell_type": "markdown",
   "metadata": {},
   "source": [
    "### Chap2 Object-Oriented Programming"
   ]
  },
  {
   "cell_type": "code",
   "execution_count": 24,
   "metadata": {
    "ExecuteTime": {
     "end_time": "2019-06-28T04:23:30.079620Z",
     "start_time": "2019-06-28T04:23:30.071704Z"
    }
   },
   "outputs": [],
   "source": [
    "import numbers\n",
    "import time\n",
    "from math import sqrt\n",
    "from abc import ABCMeta, abstractmethod\n",
    "from typing import TypeVar, Union, Any\n",
    "from random import randint\n",
    "import matplotlib.pyplot as plt\n",
    "Num = TypeVar('Num', int, float)"
   ]
  },
  {
   "cell_type": "markdown",
   "metadata": {},
   "source": [
    "#### Reinforcement"
   ]
  },
  {
   "cell_type": "markdown",
   "metadata": {},
   "source": [
    "##### R-2.4\n",
    "Write a Python class, Flower, that has three instance variables of type str,\n",
    "int, and float, that respectively represent the name of the flower, its num-\n",
    "ber of petals, and its price. Your class must include a constructor method\n",
    "that initializes each variable to an appropriate value, and your class should\n",
    "include methods for setting the value of each type, and retrieving the value\n",
    "of each type.\n"
   ]
  },
  {
   "cell_type": "code",
   "execution_count": 3,
   "metadata": {
    "ExecuteTime": {
     "end_time": "2019-06-23T00:44:43.280302Z",
     "start_time": "2019-06-23T00:44:43.269075Z"
    }
   },
   "outputs": [],
   "source": [
    "class Flower:\n",
    "    def __init__(self, name: str, n_petals: int, price: Num) -> None:\n",
    "        self._name = name\n",
    "        self._n_petals = n_petals\n",
    "        self._price = price\n",
    "\n",
    "    def get_name(self) -> str:\n",
    "        '''get flower name'''\n",
    "        return self._name\n",
    "    \n",
    "    def set_name(self, name: str) -> None:\n",
    "        '''set flower name'''\n",
    "        self._name = name\n",
    "\n",
    "    def get_n_petals(self) -> int:\n",
    "        '''get the num of flower'petrals'''\n",
    "        return self._n_petals\n",
    "\n",
    "    def set_n_petals(self, n_petals: int) -> None:\n",
    "        '''set the num of flower'petrals'''        \n",
    "        self._n_petals = n_petals\n",
    "\n",
    "    def get_price(self) -> Num:\n",
    "        '''get flower price'''\n",
    "        return self._price\n",
    "\n",
    "    def set_price(self, price) -> None:\n",
    "        '''set flower price'''\n",
    "        self._price = price"
   ]
  },
  {
   "cell_type": "markdown",
   "metadata": {
    "ExecuteTime": {
     "end_time": "2019-06-23T00:55:12.339373Z",
     "start_time": "2019-06-23T00:55:12.334137Z"
    }
   },
   "source": [
    "Note that when we write our own class, we usually write the docstring and type at the end, so that the automatically generated documentation can be obtained through the `help(Flower)` command. However, for the convenience of solving the problem, we will sometimes omit it below. "
   ]
  },
  {
   "cell_type": "markdown",
   "metadata": {},
   "source": [
    "##### R-2.5&R-2.6&2.7\n",
    "R-2.5: Use the techniques of Section 1.7 to revise the charge and make payment\n",
    "methods of the CreditCard class to ensure that the caller sends a number\n",
    "as a parameter.\n",
    "\n",
    "\n",
    "R-2.6: If the parameter to the make payment method of the CreditCard class\n",
    "were a negative number, that would have the effect of raising the balance\n",
    "on the account. Revise the implementation so that it raises a ValueError if\n",
    "a negative value is sent.\n",
    "\n",
    "R-2.7: The CreditCard class of Section 2.3 initializes the balance of a new ac-\n",
    "count to zero. Modify that class so that a new account can be given a\n",
    "nonzero balance using an optional fifth parameter to the constructor. The\n",
    "four-parameter constructor syntax should continue to produce an account\n",
    "with zero balance."
   ]
  },
  {
   "cell_type": "code",
   "execution_count": 7,
   "metadata": {
    "ExecuteTime": {
     "end_time": "2019-06-23T01:36:46.905697Z",
     "start_time": "2019-06-23T01:36:46.890724Z"
    }
   },
   "outputs": [],
   "source": [
    "class CrediCart:\n",
    "    def __init__(self, customer, bank, acnt, limit, balance=0):\n",
    "        self._cunstomer = customer\n",
    "        self._bank = bank\n",
    "        self._acnt = acnt\n",
    "        self._limit = limit\n",
    "        self._balance = balance\n",
    "\n",
    "    def charge(self, price: Num):\n",
    "        \"\"\"Charge given price to the card, assuming sufficient credit limit.\n",
    "        Return True if charge was processed; False if charge was denied.\n",
    "        \"\"\"\n",
    "        try: \n",
    "            assert isinstance(price, (int, float, complex))\n",
    "        except AssertionError:\n",
    "            print(\"The price must be a number!\")\n",
    "            # exit the function\n",
    "            return\n",
    "        # if charge would exceed limit,\n",
    "        if price + self._balance > self._limit:\n",
    "            return False\n",
    "        # cannot accept charge\n",
    "        else:\n",
    "            self._balance += price\n",
    "            return True\n",
    "\n",
    "    def make_payment(self, amount):\n",
    "        # is a number or not\n",
    "        try: \n",
    "            assert isinstance(amount, numbers.Number)\n",
    "        except AssertionError:\n",
    "            print(\"The amount must be a number!\")\n",
    "            # exit the function\n",
    "            return\n",
    "        # is positive or not\n",
    "        if amount < 0:\n",
    "            raise ValueError(\"amount must be a positive number\")\n",
    "        \"\"\"Process customer payment that reduces balance.\"\"\"\n",
    "        self._balance -= amount"
   ]
  },
  {
   "cell_type": "markdown",
   "metadata": {},
   "source": [
    "Note that here we are nothing more than adding an anomaly detection. The parameters given by the detection are not numbers. Here, for the two detections, we give two different methods, `isinstance(price, (int, float, complex))` and `isinstance(amount, numbers.Number)`, both are acceptable, refer to [here](https://stackoverflow.com/questions/11204789/how-to-properly-use-pythons-isinstance-to-check-if- a-variable-is-a-number). "
   ]
  },
  {
   "cell_type": "markdown",
   "metadata": {},
   "source": [
    "##### R-2.9 -> R-2.15\n",
    "\n",
    "The main thing is to define a `Vector` class and implement some operations on the vector.\n",
    "\n",
    "Note the following method of using type hint inside the class, refer to [Type of the same class inside the class](https://github.com/python/mypy/issues/3661)"
   ]
  },
  {
   "cell_type": "code",
   "execution_count": 9,
   "metadata": {
    "ExecuteTime": {
     "end_time": "2019-06-23T04:03:17.929090Z",
     "start_time": "2019-06-23T04:03:17.894714Z"
    }
   },
   "outputs": [],
   "source": [
    "class Vector:\n",
    "    def __init__(self, data_or_n: Any) -> None:\n",
    "        if isinstance(data_or_n, int):\n",
    "            self._data = [0] * data_or_n\n",
    "            self._len = data_or_n\n",
    "        elif isinstance(data_or_n, list):\n",
    "            self._data = data_or_n\n",
    "            self._len = len(data_or_n)\n",
    "        else:\n",
    "            raise ValueError(\"Vector must be initialized by a int or list!\")\n",
    "\n",
    "\n",
    "    def __repr__(self) -> str:\n",
    "        return repr(self._data).replace('[', '<').replace(']', '>')\n",
    "    \n",
    "    def __len__(self):\n",
    "        return self._len\n",
    "\n",
    "    def __getitem__(self, index: int) -> Num:\n",
    "        return self._data[index]\n",
    "    \n",
    "    def __setitem__(self, index: int, value: Num) -> None:\n",
    "        self._data[index] = value\n",
    "    \n",
    "    def __add__(self, v: 'Vector') -> 'Vector':\n",
    "        \"\"\"\n",
    "        >>> v1 = Vector([1, 2, 3])\n",
    "        >>> v2 = Vector([1, 1, 1])\n",
    "        >>> v1 + v2\n",
    "        <2, 3, 4>\n",
    "        \"\"\"        \n",
    "        assert len(self) == len(v)\n",
    "        result = Vector(self._len)\n",
    "        for i in range(len(self)):\n",
    "            result[i] = self._data[i] + v[i]\n",
    "        return result\n",
    "    \n",
    "    def __radd__(self, v: 'Vector') -> 'Vector':\n",
    "        return self.__add__(v)\n",
    "        \n",
    "\n",
    "    def __sub__(self, v: 'Vector') -> 'Vector':\n",
    "        \"\"\"\n",
    "        >>> v1 = Vector([1, 2, 3])\n",
    "        >>> v2 = Vector([1, 1, 1])\n",
    "        >>> v1 - v2\n",
    "        <0, 1, 2>\n",
    "        \"\"\"\n",
    "        assert len(self) == len(v)\n",
    "        result = Vector(self._len)\n",
    "        for i in range(len(self)):\n",
    "            result[i] = self._data[i] - v[i]\n",
    "        return result\n",
    "\n",
    "    def __neg__(self) -> 'Vector':\n",
    "        \"\"\"\n",
    "        >>> -Vector([1, 2, 3])\n",
    "        <-1, -2, -3>\n",
    "        \"\"\"\n",
    "        result = Vector(self._len)\n",
    "        for index, value in enumerate(self._data):\n",
    "            result[index] = -value\n",
    "        return result\n",
    "    \n",
    "    def __mul__(self, factor: Union[int, 'Vector']) -> Union[int, 'Vector']:\n",
    "        \"\"\"multiply with an int or vector.\n",
    "        >>> v1 = Vector([1, 2, 3])\n",
    "        >>> v1 * 2\n",
    "        <2, 4, 6>\n",
    "        >>> 2 * v1\n",
    "        <2, 4, 6>\n",
    "        >>> v2 = Vector([1, 1, 1])\n",
    "        >>> v1 * v2\n",
    "        6\n",
    "        \"\"\"\n",
    "        if isinstance(factor, Vector):\n",
    "            assert len(self) == len(factor)\n",
    "            result = 0\n",
    "            for i in range(self._len):\n",
    "                result += self._data[i] * factor[i]\n",
    "            return result\n",
    "        else:\n",
    "            result = Vector(self._len)\n",
    "            for index, value in enumerate(self._data):\n",
    "                result[index] = factor * value\n",
    "            return result                   \n",
    "\n",
    "    def __rmul__(self, factor: Union[int, 'Vector']) -> Union[int, 'Vector']:\n",
    "        return self.__mul__(factor)"
   ]
  },
  {
   "cell_type": "markdown",
   "metadata": {},
   "source": [
    "The above code uses `pytest`, and the tests of `pyright` all pass. "
   ]
  },
  {
   "cell_type": "markdown",
   "metadata": {},
   "source": [
    "##### R-2.16\n",
    "Our Range class, from Section 2.3.5, relies on the formula\n",
    "max(0, (stop − start + step − 1) // step)\n",
    "to compute the number of elements in the range. It is not immediately ev-\n",
    "ident why this formula provides the correct calculation, even if assuming\n",
    "a positive step size. Justify this formula, in your own words."
   ]
  },
  {
   "cell_type": "markdown",
   "metadata": {},
   "source": [
    "$$max(0, (stop - start + step - 1) // step)$$\n",
    "Simplify it, the previous 1 can be regarded as the first value, \n",
    "$$max(0, 1 + (stop - start - 1) // step)$$\n",
    "After that, $(stop - start) // step$ should have been added, but considering that it does not include the value at `stop`, considering that the minimum step size is 1 (must be an integer), the actual termination The point is `stop-1`, so add $(stop - start - 1) // step$ "
   ]
  },
  {
   "cell_type": "markdown",
   "metadata": {},
   "source": [
    "##### R-2.18\n",
    "Give a short fragment of Python code that uses the progression classes\n",
    "from Section 2.4.2 to find the 8 th value of a Fibonacci progression that\n",
    "starts with 2 and 2 as its first two values."
   ]
  },
  {
   "cell_type": "code",
   "execution_count": 18,
   "metadata": {
    "ExecuteTime": {
     "end_time": "2019-06-28T04:17:17.303449Z",
     "start_time": "2019-06-28T04:17:17.283614Z"
    }
   },
   "outputs": [],
   "source": [
    "# code in 2.4.2\n",
    "class Progression:\n",
    "    def __init__(self, start=0):\n",
    "        self._current = start\n",
    "    \n",
    "    def _advance(self):\n",
    "        self._current += 1\n",
    "\n",
    "    def __next__(self):\n",
    "        if self._current is None:\n",
    "            raise StopIteration\n",
    "        else:\n",
    "            answer = self._current\n",
    "            self._advance()\n",
    "            return answer\n",
    "\n",
    "    def __iter__(self):\n",
    "        return self\n",
    "\n",
    "    def print_progression(self, n):\n",
    "        print(' '.join(str(next(self)) for i in range(n)))\n",
    "\n",
    "\n",
    "class FibonacciProgression(Progression):\n",
    "    def __init__(self, first=0, second=1):\n",
    "        # initialize base class\n",
    "        # start progression at first\n",
    "        super().__init__(first)\n",
    "        self._prev = second - first\n",
    "    \n",
    "    def _advance(self):\n",
    "        self._prev, self._current = self._current, self._current + self._prev"
   ]
  },
  {
   "cell_type": "code",
   "execution_count": 2,
   "metadata": {
    "ExecuteTime": {
     "end_time": "2019-06-28T02:19:05.230116Z",
     "start_time": "2019-06-28T02:19:05.220147Z"
    }
   },
   "outputs": [
    {
     "name": "stdout",
     "output_type": "stream",
     "text": [
      "2 2 4 6 10 16 26 42\n"
     ]
    }
   ],
   "source": [
    "# solution of R-2.18\n",
    "fib = FibonacciProgression(2, 2)\n",
    "fib.print_progression(8)"
   ]
  },
  {
   "cell_type": "markdown",
   "metadata": {},
   "source": [
    "From this, the answer to the question is 42 (appears, the ultimate answer to the universe :-) "
   ]
  },
  {
   "cell_type": "markdown",
   "metadata": {},
   "source": [
    "##### R-2.19\n",
    "When using the ArithmeticProgression class of Section 2.4.2 with an in-\n",
    "crement of 128 and a start of 0, how many calls to next can we make\n",
    "before we reach an integer of $2^{63}$ or larger?"
   ]
  },
  {
   "cell_type": "code",
   "execution_count": 3,
   "metadata": {
    "ExecuteTime": {
     "end_time": "2019-06-28T02:38:53.729432Z",
     "start_time": "2019-06-28T02:38:53.717500Z"
    }
   },
   "outputs": [
    {
     "data": {
      "text/plain": [
       "72057594037927936"
      ]
     },
     "execution_count": 3,
     "metadata": {},
     "output_type": "execute_result"
    }
   ],
   "source": [
    "steps = 2 ** (63 - 7)\n",
    "steps"
   ]
  },
  {
   "cell_type": "markdown",
   "metadata": {},
   "source": [
    "#### Creativity"
   ]
  },
  {
   "cell_type": "markdown",
   "metadata": {},
   "source": [
    "##### C-2.25\n",
    "Exercise R-2.12 uses the mul method to support multiplying a Vector\n",
    "by a number, while Exercise R-2.14 uses the mul method to support\n",
    "computing a dot product of two vectors. Give a single implementation of\n",
    "Vector. mul that uses run-time type checking to support both syntaxes\n",
    "u v and u k, where u and v designate vector instances and k represents\n",
    "a number."
   ]
  },
  {
   "cell_type": "markdown",
   "metadata": {},
   "source": [
    "In fact, we have given this way of writing above, refer to R-2.9 -> R-2.15 "
   ]
  },
  {
   "cell_type": "markdown",
   "metadata": {},
   "source": [
    "##### C-2.26 \n",
    "The SequenceIterator class of Section 2.3.4 provides what is known as a\n",
    "forward iterator. Implement a class named ReversedSequenceIterator that\n",
    "serves as a reverse iterator for any Python sequence type. The first call to\n",
    "next should return the last element of the sequence, the second call to next\n",
    "should return the second-to-last element, and so forth."
   ]
  },
  {
   "cell_type": "code",
   "execution_count": 5,
   "metadata": {
    "ExecuteTime": {
     "end_time": "2019-06-28T03:05:19.559979Z",
     "start_time": "2019-06-28T03:05:19.554123Z"
    }
   },
   "outputs": [],
   "source": [
    "class ReversedSequenceIterator:\n",
    "    \"\"\"\n",
    "    A reversed iterator for Python's sequence types.\n",
    "    \"\"\"\n",
    "    def __init__(self, sequence):\n",
    "        \"\"\"Create an iterator for the given sequence\"\"\"\n",
    "        self._seq = sequence\n",
    "        self._k = len(sequence)\n",
    "\n",
    "    def __next__(self):\n",
    "        \"\"\"Return the next element(with reversed order), or else\n",
    "        raise StopIteration error\"\"\"\n",
    "        self._k  -= 1\n",
    "        if self._k >= 0:\n",
    "            return self._seq[self._k]\n",
    "        else:\n",
    "            raise StopIteration\n",
    "\n",
    "    def __iter__(self):\n",
    "        return self"
   ]
  },
  {
   "cell_type": "code",
   "execution_count": 6,
   "metadata": {
    "ExecuteTime": {
     "end_time": "2019-06-28T03:05:55.700009Z",
     "start_time": "2019-06-28T03:05:55.692266Z"
    }
   },
   "outputs": [
    {
     "name": "stdout",
     "output_type": "stream",
     "text": [
      "5\n",
      "3\n",
      "1\n"
     ]
    }
   ],
   "source": [
    "rev_seq = ReversedSequenceIterator([1, 3, 5])\n",
    "for i in rev_seq:\n",
    "    print(i)"
   ]
  },
  {
   "cell_type": "markdown",
   "metadata": {},
   "source": [
    "##### C-2.27 \n",
    "In Section 2.3.5, we note that our version of the Range class has im-\n",
    "plicit support for iteration, due to its explicit support of both len\n",
    "and getitem . The class also receives implicit support of the Boolean\n",
    "test, “k in r” for Range r. This test is evaluated based on a forward itera-\n",
    "tion through the range, as evidenced by the relative quickness of the test\n",
    "2 in Range(10000000) versus 9999999 in Range(10000000). Provide a\n",
    "more efficient implementation of the contains method to determine\n",
    "whether a particular value lies within a given range. The running time of\n",
    "your method should be independent of the length of the range."
   ]
  },
  {
   "cell_type": "code",
   "execution_count": 13,
   "metadata": {
    "ExecuteTime": {
     "end_time": "2019-06-28T03:50:37.930619Z",
     "start_time": "2019-06-28T03:50:37.910632Z"
    }
   },
   "outputs": [],
   "source": [
    "class Range:\n",
    "    \"\"\"A class that mimic's the build-in range class\"\"\"\n",
    "    def __init__(self, start, stop=None, step=1):\n",
    "        if step == 0:\n",
    "            raise ValueError('step cannot ne 0')\n",
    "        # special case for range(n)\n",
    "        if stop is None:\n",
    "            start, stop = 0, start\n",
    "        # calculate the effective length once\n",
    "        self._length = max(0, (step - start + step - 1) // step)\n",
    "        # need knowledge of the start and step(but not stop) to support __getitem__\n",
    "        self._start = start\n",
    "        self._step = step\n",
    "        # for __contains\n",
    "        self._stop = stop\n",
    "\n",
    "    def __len__(self):\n",
    "        return self._length\n",
    "\n",
    "    def __getitem__(self, k):\n",
    "        # negative index\n",
    "        if k < 0:\n",
    "            k += self._length\n",
    "\n",
    "        if not 0 <= k < self._length:\n",
    "            raise IndexError(\"index out of range\")\n",
    "\n",
    "        return self._start + k * self._step\n",
    "    \n",
    "    def __contains__(self, x):\n",
    "        if not self._start <= x < self._stop:\n",
    "            return False\n",
    "        if (x - self._start) % self._step == 0:\n",
    "            return True\n",
    "        else:\n",
    "            return False\n",
    "    \n",
    "    @staticmethod\n",
    "    def test_contains(start=0, stop=10000000, step=1, test_n=50):\n",
    "        xs = sorted([randint(start, stop) for i in range(test_n)])\n",
    "        times = []\n",
    "        my_range = Range(start, stop, step)\n",
    "        for x in xs:\n",
    "            time_s = time.time()\n",
    "            x in my_range\n",
    "            times.append(time.time() - time_s)\n",
    "        plt.plot(xs, times)\n",
    "        plt.ylim(0, 0.00002)\n",
    "        plt.show()"
   ]
  },
  {
   "cell_type": "code",
   "execution_count": 14,
   "metadata": {
    "ExecuteTime": {
     "end_time": "2019-06-28T03:50:40.309603Z",
     "start_time": "2019-06-28T03:50:40.144819Z"
    }
   },
   "outputs": [
    {
     "data": {
      "image/png": "[encoded data removed]",
      "text/plain": [
       "<matplotlib.figure.Figure at 0x7f8669475128>"
      ]
     },
     "metadata": {
      "needs_background": "light"
     },
     "output_type": "display_data"
    }
   ],
   "source": [
    "r = Range(0, 10000000, 1)\n",
    "r.test_contains()"
   ]
  },
  {
   "cell_type": "code",
   "execution_count": 15,
   "metadata": {
    "ExecuteTime": {
     "end_time": "2019-06-28T03:55:02.922063Z",
     "start_time": "2019-06-28T03:55:01.694016Z"
    }
   },
   "outputs": [
    {
     "data": {
      "text/plain": [
       "'Intel(R) Core(TM) i5-5200U CPU @ 2.20GHz'"
      ]
     },
     "execution_count": 15,
     "metadata": {},
     "output_type": "execute_result"
    }
   ],
   "source": [
    "# Test environment (need to install py-cupinfo library first) \n",
    "import cpuinfo\n",
    "cpuinfo.get_cpu_info()['brand']"
   ]
  },
  {
   "cell_type": "markdown",
   "metadata": {},
   "source": [
    "##### C-2.31\n",
    "Write a Python class that extends the Progression class so that each value\n",
    "in the progression is the absolute value of the difference between the pre-\n",
    "vious two values. You should include a constructor that accepts a pair of\n",
    "numbers as the first two values, using 2 and 200 as the defaults."
   ]
  },
  {
   "cell_type": "code",
   "execution_count": 19,
   "metadata": {
    "ExecuteTime": {
     "end_time": "2019-06-28T04:17:20.659218Z",
     "start_time": "2019-06-28T04:17:20.648277Z"
    }
   },
   "outputs": [],
   "source": [
    "class AbsdiffPrograssion(Progression):\n",
    "    def __init__(self, first=2, second=200):\n",
    "        super().__init__(first)\n",
    "        self._prev1 = None\n",
    "        self._prev2 = None\n",
    "        # for starting\n",
    "        self._second = second\n",
    "        self._count = 1\n",
    "\n",
    "    def _advance(self):\n",
    "        # for starting\n",
    "        if self._count == 1:\n",
    "            self._prev1 = self._current\n",
    "            self._current = self._second\n",
    "        else:\n",
    "            self._prev1, self._prev2 = self._current, self._prev1\n",
    "            self._current = abs(self._prev1 - self._prev2)\n",
    "        self._count += 1"
   ]
  },
  {
   "cell_type": "code",
   "execution_count": 21,
   "metadata": {
    "ExecuteTime": {
     "end_time": "2019-06-28T04:17:27.977619Z",
     "start_time": "2019-06-28T04:17:27.972631Z"
    }
   },
   "outputs": [
    {
     "name": "stdout",
     "output_type": "stream",
     "text": [
      "2 200 198 2 196 194 2 192 190 2\n"
     ]
    }
   ],
   "source": [
    "t = AbsdiffPrograssion()\n",
    "t.print_progression(10)"
   ]
  },
  {
   "cell_type": "markdown",
   "metadata": {},
   "source": [
    "##### C-2.32\n",
    "Write a Python class that extends the Progression class so that each value\n",
    "in the progression is the square root of the previous value. (Note that\n",
    "you can no longer represent each value with an integer.) Your construc-\n",
    "tor should accept an optional parameter specifying the start value, using\n",
    "65, 536 as a default."
   ]
  },
  {
   "cell_type": "code",
   "execution_count": 22,
   "metadata": {
    "ExecuteTime": {
     "end_time": "2019-06-28T04:23:14.315061Z",
     "start_time": "2019-06-28T04:23:14.302081Z"
    }
   },
   "outputs": [],
   "source": [
    "class SquareRootProgression(Progression):\n",
    "    def __init__(self, start=65536):\n",
    "        super().__init__(start)\n",
    "\n",
    "    def _advance(self):\n",
    "        self._current = sqrt(self._current)"
   ]
  },
  {
   "cell_type": "code",
   "execution_count": 25,
   "metadata": {
    "ExecuteTime": {
     "end_time": "2019-06-28T04:23:35.170619Z",
     "start_time": "2019-06-28T04:23:35.159627Z"
    }
   },
   "outputs": [
    {
     "name": "stdout",
     "output_type": "stream",
     "text": [
      "65536 256.0 16.0 4.0 2.0 1.4142135623730951 1.189207115002721 1.0905077326652577 1.0442737824274138 1.0218971486541166\n"
     ]
    }
   ],
   "source": [
    "s = SquareRootProgression()\n",
    "s.print_progression(10)"
   ]
  }
 ],
 "metadata": {
  "kernelspec": {
   "display_name": "Python 3",
   "language": "python",
   "name": "python3"
  },
  "language_info": {
   "codemirror_mode": {
    "name": "ipython",
    "version": 3
   },
   "file_extension": ".py",
   "mimetype": "text/x-python",
   "name": "python",
   "nbconvert_exporter": "python",
   "pygments_lexer": "ipython3",
   "version": "3.6.8"
  },
  "toc": {
   "nav_menu": {},
   "number_sections": false,
   "sideBar": true,
   "skip_h1_title": false,
   "title_cell": "Table of Contents",
   "title_sidebar": "Contents",
   "toc_cell": false,
   "toc_position": {
    "height": "calc(100% - 180px)",
    "left": "10px",
    "top": "150px",
    "width": "273.2px"
   },
   "toc_section_display": true,
   "toc_window_display": true
  }
 },
 "nbformat": 4,
 "nbformat_minor": 2
}
